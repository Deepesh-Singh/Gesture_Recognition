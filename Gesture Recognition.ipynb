{
 "cells": [
  {
   "cell_type": "markdown",
   "metadata": {},
   "source": [
    "## Gesture Recognition"
   ]
  },
  {
   "cell_type": "code",
   "execution_count": 1,
   "metadata": {
    "colab": {
     "base_uri": "https://localhost:8080/"
    },
    "id": "TbLDe128fRmh",
    "outputId": "0ebe5cff-9c4b-4f03-91d5-eef45ea70928"
   },
   "outputs": [
    {
     "name": "stdout",
     "output_type": "stream",
     "text": [
      "Found GPU at: /device:GPU:0\n"
     ]
    }
   ],
   "source": [
    "#Checking GPU active status\n",
    "import tensorflow as tf\n",
    "device_name = tf.test.gpu_device_name()\n",
    "if device_name != '/device:GPU:0':\n",
    "  raise SystemError('GPU device not found')\n",
    "print('Found GPU at: {}'.format(device_name))"
   ]
  },
  {
   "cell_type": "code",
   "execution_count": 2,
   "metadata": {
    "colab": {
     "base_uri": "https://localhost:8080/"
    },
    "id": "OrZ1EdzffazA",
    "outputId": "edc26c72-9ff0-4e2d-9086-b7f6bd026480"
   },
   "outputs": [
    {
     "name": "stdout",
     "output_type": "stream",
     "text": [
      "Mounted at /content/gdrive\n"
     ]
    }
   ],
   "source": [
    "# Mounting Google Drive\n",
    "\n",
    "from google.colab import drive\n",
    "drive.mount('/content/gdrive')"
   ]
  },
  {
   "cell_type": "code",
   "execution_count": 3,
   "metadata": {
    "colab": {
     "base_uri": "https://localhost:8080/"
    },
    "id": "v-rS5Akcfa15",
    "outputId": "309c3fab-b960-4a62-9c69-2906b3477714"
   },
   "outputs": [
    {
     "name": "stdout",
     "output_type": "stream",
     "text": [
      "Collecting ipython-autotime\n",
      "  Downloading https://files.pythonhosted.org/packages/3f/58/a4a65efcce5c81a67b6893ade862736de355a3a718af5533d30c991831ce/ipython_autotime-0.2.0-py2.py3-none-any.whl\n",
      "Requirement already satisfied: ipython in /usr/local/lib/python3.6/dist-packages (from ipython-autotime) (5.5.0)\n",
      "Requirement already satisfied: setuptools>=18.5 in /usr/local/lib/python3.6/dist-packages (from ipython->ipython-autotime) (50.3.2)\n",
      "Requirement already satisfied: prompt-toolkit<2.0.0,>=1.0.4 in /usr/local/lib/python3.6/dist-packages (from ipython->ipython-autotime) (1.0.18)\n",
      "Requirement already satisfied: simplegeneric>0.8 in /usr/local/lib/python3.6/dist-packages (from ipython->ipython-autotime) (0.8.1)\n",
      "Requirement already satisfied: pickleshare in /usr/local/lib/python3.6/dist-packages (from ipython->ipython-autotime) (0.7.5)\n",
      "Requirement already satisfied: decorator in /usr/local/lib/python3.6/dist-packages (from ipython->ipython-autotime) (4.4.2)\n",
      "Requirement already satisfied: traitlets>=4.2 in /usr/local/lib/python3.6/dist-packages (from ipython->ipython-autotime) (4.3.3)\n",
      "Requirement already satisfied: pexpect; sys_platform != \"win32\" in /usr/local/lib/python3.6/dist-packages (from ipython->ipython-autotime) (4.8.0)\n",
      "Requirement already satisfied: pygments in /usr/local/lib/python3.6/dist-packages (from ipython->ipython-autotime) (2.6.1)\n",
      "Requirement already satisfied: wcwidth in /usr/local/lib/python3.6/dist-packages (from prompt-toolkit<2.0.0,>=1.0.4->ipython->ipython-autotime) (0.2.5)\n",
      "Requirement already satisfied: six>=1.9.0 in /usr/local/lib/python3.6/dist-packages (from prompt-toolkit<2.0.0,>=1.0.4->ipython->ipython-autotime) (1.15.0)\n",
      "Requirement already satisfied: ipython-genutils in /usr/local/lib/python3.6/dist-packages (from traitlets>=4.2->ipython->ipython-autotime) (0.2.0)\n",
      "Requirement already satisfied: ptyprocess>=0.5 in /usr/local/lib/python3.6/dist-packages (from pexpect; sys_platform != \"win32\"->ipython->ipython-autotime) (0.6.0)\n",
      "Installing collected packages: ipython-autotime\n",
      "Successfully installed ipython-autotime-0.2.0\n",
      "time: 146 µs\n"
     ]
    }
   ],
   "source": [
    "!pip install ipython-autotime\n",
    "%load_ext autotime"
   ]
  },
  {
   "cell_type": "code",
   "execution_count": 4,
   "metadata": {
    "colab": {
     "base_uri": "https://localhost:8080/"
    },
    "id": "bW8H0_o7fa4s",
    "outputId": "e31220e2-619a-48e3-c5c1-40b813e3ff59"
   },
   "outputs": [
    {
     "name": "stdout",
     "output_type": "stream",
     "text": [
      "time: 1.27 s\n"
     ]
    }
   ],
   "source": [
    "import numpy as np\n",
    "import os\n",
    "import skimage\n",
    "from skimage.transform import resize\n",
    "import datetime\n",
    "import os\n",
    "import cv2\n",
    "import random as rn\n",
    "from keras import backend as K\n",
    "import matplotlib.pyplot as plt\n",
    "% matplotlib inline"
   ]
  },
  {
   "cell_type": "code",
   "execution_count": 5,
   "metadata": {
    "colab": {
     "base_uri": "https://localhost:8080/"
    },
    "id": "Z5w1xW2ffa-a",
    "outputId": "8efcd283-1763-4cf7-a51d-42cbefaa8624"
   },
   "outputs": [
    {
     "name": "stdout",
     "output_type": "stream",
     "text": [
      "time: 1.55 ms\n"
     ]
    }
   ],
   "source": [
    "np.random.seed(30)\n",
    "rn.seed(30)\n",
    "tf.random.set_seed(30)"
   ]
  },
  {
   "cell_type": "code",
   "execution_count": 27,
   "metadata": {
    "colab": {
     "base_uri": "https://localhost:8080/"
    },
    "id": "S6vfBykYfbBM",
    "outputId": "3623ee9f-f1ff-40f4-c51d-496baa74f0ef"
   },
   "outputs": [
    {
     "name": "stdout",
     "output_type": "stream",
     "text": [
      "time: 4.45 ms\n"
     ]
    }
   ],
   "source": [
    "# function to plot the training/validation accuracies/losses.\n",
    "\n",
    "def plot(history):\n",
    "    fig, axes = plt.subplots(nrows=1, ncols=2, figsize=(15,4))\n",
    "    axes[0].plot(history.history['loss'])   \n",
    "    axes[0].plot(history.history['val_loss'])\n",
    "    axes[0].legend(['loss','val_loss'])\n",
    "\n",
    "    axes[1].plot(history.history['categorical_accuracy'])   \n",
    "    axes[1].plot(history.history['val_categorical_accuracy'])\n",
    "    axes[1].legend(['categorical_accuracy','val_categorical_accuracy'])"
   ]
  },
  {
   "cell_type": "code",
   "execution_count": 49,
   "metadata": {
    "colab": {
     "base_uri": "https://localhost:8080/"
    },
    "id": "k7Lybym_fbD4",
    "outputId": "6a26f68f-91d7-4eb0-d14a-d38829a2c41c"
   },
   "outputs": [
    {
     "name": "stdout",
     "output_type": "stream",
     "text": [
      "time: 8.72 ms\n"
     ]
    }
   ],
   "source": [
    "# Reading training and validation folder names\n",
    "train_doc = np.random.permutation(open('/content/gdrive/My Drive/Project_data/train.csv').readlines())\n",
    "val_doc = np.random.permutation(open('/content/gdrive/My Drive/Project_data/val.csv').readlines())"
   ]
  },
  {
   "cell_type": "code",
   "execution_count": 50,
   "metadata": {
    "colab": {
     "base_uri": "https://localhost:8080/"
    },
    "id": "_DOSn2xBfbGy",
    "outputId": "17003e70-bf80-4252-90dc-405d29437e10"
   },
   "outputs": [
    {
     "name": "stdout",
     "output_type": "stream",
     "text": [
      "time: 3.02 ms\n"
     ]
    }
   ],
   "source": [
    "#data resizing - Resizing all the images, so we can have all the images in a specific size\n",
    "def crop_resize_img(img,rows,cols):\n",
    "    if img.shape[0] != img.shape[1]:\n",
    "        img=img[0:120,10:150]\n",
    "    resized_image = skimage.transform.resize(img, (rows,cols,3))\n",
    "    return resized_image"
   ]
  },
  {
   "cell_type": "code",
   "execution_count": 52,
   "metadata": {
    "colab": {
     "base_uri": "https://localhost:8080/"
    },
    "id": "8XgQkrdzfbMe",
    "outputId": "cc209c4c-629d-4129-bd2f-7d692777cebd"
   },
   "outputs": [
    {
     "name": "stdout",
     "output_type": "stream",
     "text": [
      "time: 63.5 ms\n"
     ]
    }
   ],
   "source": [
    "# Preprocessing the images before feed data to the model in batches.\n",
    "\n",
    "def fetch_aug_batchdata(source_path, folder_list, batch_num, batch_size, t,validation,frames_to_sample,h,w):\n",
    "    \n",
    "    # intialize variables to store data read from train data\n",
    "    batch_data = np.zeros((batch_size,30,w,h,3)) # batch_size is the number of images you use for each video, (w,h) is the final size of the input images and 3 is the number of channels RGB\n",
    "    batch_labels = np.zeros((batch_size,5)) # batch_labels is the one hot representation of the output\n",
    "    #print(batch_data)\n",
    "    #print(batch_labels)\n",
    "    # intialize variables for augumented batch data with affine transformation\n",
    "    batch_data_aug,batch_label_aug = batch_data,batch_labels\n",
    "    #print(batch_data_aug)\n",
    "    #print(batch_label_aug)\n",
    "    \n",
    "    #create a list of image numbers you want to use for a particular video using full frames\n",
    "    img_idx = np.round(np.linspace(0,29,frames_to_sample)).astype(int)\n",
    "    \n",
    "    for folder in range(batch_size): # iterate over the batch_size\n",
    "        # read all the images in the folder\n",
    "        imgs = sorted(os.listdir(source_path+'/'+ t[folder + (batch_num*batch_size)].split(';')[0])) \n",
    "        # create a random affine to be used in image transformation for buidling agumented data set\n",
    "        dx, dy = np.random.randint(-1.7, 1.8, 2)\n",
    "        M = np.float32([[1, 0, dx], [0, 1, dy]])\n",
    "        \n",
    "        #  Iterate over the frames for each folder to read them in\n",
    "        for idx, item in enumerate(img_idx):             \n",
    "            image = cv2.imread(source_path+'/'+ t[folder + (batch_num*batch_size)].strip().split(';')[0]+'/'+imgs[item], cv2.IMREAD_COLOR)\n",
    "            image = cv2.cvtColor(image, cv2.COLOR_BGR2RGB)           \n",
    "            # Cropping non symmetric frames\n",
    "            #crop the images and resize them. Note that the images are of 2 different shape \n",
    "            #and the conv3D will throw error if the inputs in a batch have different shapes \n",
    "            resized_image=crop_resize_img(image,w,h)\n",
    "            \n",
    "            #normalizing the images\n",
    "            batch_data[folder,idx,:,:,0] = (resized_image[:,:,0])/255\n",
    "            batch_data[folder,idx,:,:,1] = (resized_image[:,:,1])/255\n",
    "            batch_data[folder,idx,:,:,2] = (resized_image[:,:,2])/255\n",
    "            \n",
    "            x =resized_image.shape[0]\n",
    "            y =resized_image.shape[1]\n",
    "            #Data with affine transformation\n",
    "            batch_data_aug[folder,idx] = (cv2.warpAffine(resized_image, M, (x,y)))\n",
    "            \n",
    "\n",
    "        batch_labels[folder, int(t[folder + (batch_num*batch_size)].strip().split(';')[2])] = 1\n",
    "        batch_label_aug[folder, int(t[folder + (batch_num*batch_size)].strip().split(';')[2])] = 1\n",
    "        \n",
    "                  \n",
    "    #adding the augumented data in the main data.\n",
    "    \n",
    "    batch_data_final = np.append(batch_data, batch_data_aug, axis = 0)\n",
    "\n",
    "    batch_label_final = np.append(batch_labels, batch_label_aug, axis = 0) \n",
    "    \n",
    "    if validation:\n",
    "        batch_data_final=batch_data\n",
    "        batch_label_final= batch_labels\n",
    "        \n",
    "    return batch_data_final,batch_label_final"
   ]
  },
  {
   "cell_type": "code",
   "execution_count": 54,
   "metadata": {
    "colab": {
     "base_uri": "https://localhost:8080/"
    },
    "id": "T30hwR3RfbPb",
    "outputId": "6630c967-710d-48fa-c883-d9090b09a762"
   },
   "outputs": [
    {
     "name": "stdout",
     "output_type": "stream",
     "text": [
      "time: 6.15 ms\n"
     ]
    }
   ],
   "source": [
    "# Generator Function\n",
    "\n",
    "def generator(source_path, folder_list, batch_size, frame_diff,h,w,validation=False,ablation=None):\n",
    "    print( 'Source path = ', source_path, '; batch size =', batch_size)\n",
    "    if(ablation!=None):\n",
    "        folder_list=folder_list[:ablation]\n",
    "    while True:\n",
    "        t = np.random.permutation(folder_list)\n",
    "        num_batches = len(folder_list)//batch_size # calculate the number of batches\n",
    "        for batch in range(num_batches): # we iterate over the number of batches\n",
    "            # you yield the batch_data and the batch_labels, remember what does yield do\n",
    "            yield fetch_aug_batchdata(source_path, folder_list, batch, batch_size, t,validation,frame_diff,h,w)\n",
    "            \n",
    "        \n",
    "        # Code for the remaining data points which are left after full batches\n",
    "        if (len(folder_list) != batch_size*num_batches):\n",
    "            batch_size = len(folder_list) - (batch_size*num_batches)\n",
    "            yield fetch_aug_batchdata(source_path, folder_list, batch, batch_size, t,validation,frame_diff,h,w)"
   ]
  },
  {
   "cell_type": "code",
   "execution_count": 55,
   "metadata": {
    "colab": {
     "base_uri": "https://localhost:8080/"
    },
    "id": "bY-WOfa8hKbX",
    "outputId": "25235085-f725-4c62-a999-9b7b97d9921e"
   },
   "outputs": [
    {
     "name": "stdout",
     "output_type": "stream",
     "text": [
      "# training sequences = 663\n",
      "# validation sequences = 100\n",
      "time: 2.02 ms\n"
     ]
    }
   ],
   "source": [
    "curr_dt_time = datetime.datetime.now()\n",
    "train_path = '/content/gdrive/My Drive/Project_data/train'\n",
    "val_path = '/content/gdrive/My Drive/Project_data/val'\n",
    "num_train_sequences = len(train_doc)\n",
    "print('# training sequences =', num_train_sequences)\n",
    "num_val_sequences = len(val_doc)\n",
    "print('# validation sequences =', num_val_sequences)"
   ]
  },
  {
   "cell_type": "code",
   "execution_count": 56,
   "metadata": {
    "colab": {
     "base_uri": "https://localhost:8080/"
    },
    "id": "J9P7q4P3hKd_",
    "outputId": "14ba3260-91c7-4e6a-aca4-0a67fd0ca92f"
   },
   "outputs": [
    {
     "name": "stdout",
     "output_type": "stream",
     "text": [
      "time: 2.9 ms\n"
     ]
    }
   ],
   "source": [
    "from keras.models import Sequential, Model\n",
    "from keras.layers import Dense, GRU, Flatten, TimeDistributed, Flatten, BatchNormalization, Activation, Dropout,LSTM\n",
    "from keras.layers.convolutional import Conv3D,Conv2D, MaxPooling3D,MaxPooling2D\n",
    "from keras.callbacks import ModelCheckpoint, ReduceLROnPlateau, EarlyStopping\n",
    "from keras import optimizers\n",
    "from keras.applications import ResNet50\n",
    "from keras.applications.resnet50 import preprocess_input\n",
    "from keras.layers.recurrent import LSTM, GRU\n",
    "from keras.optimizers import Adam"
   ]
  },
  {
   "cell_type": "code",
   "execution_count": 57,
   "metadata": {
    "colab": {
     "base_uri": "https://localhost:8080/"
    },
    "id": "HNSbHbUMhKmD",
    "outputId": "77fc4961-4ae5-4694-81ac-23f88d43ddff"
   },
   "outputs": [
    {
     "name": "stdout",
     "output_type": "stream",
     "text": [
      "time: 29.5 ms\n"
     ]
    }
   ],
   "source": [
    "def train_model(batch_size,frame_diff,h,w,num_epochs):\n",
    "        model = model1(w,h)\n",
    "        train_generator = generator(train_path, train_doc, batch_size,frame_diff,h,w)\n",
    "        val_generator = generator(val_path, val_doc, batch_size,frame_diff,h,w,validation=True)\n",
    "\n",
    "        model_name = '/content/gdrive/My Drive/Project_data/model_5' + '_' + str(datetime.datetime.now()).replace(' ','').replace(':','_') + '/'\n",
    "    \n",
    "        if not os.path.exists(model_name):\n",
    "            os.mkdir(model_name)\n",
    "        \n",
    "        filepath = model_name + 'model-{epoch:05d}-{loss:.5f}-{categorical_accuracy:.5f}-{val_loss:.5f}-{val_categorical_accuracy:.5f}.h5'\n",
    "\n",
    "        checkpoint = ModelCheckpoint(filepath, monitor='val_loss', verbose=1, save_best_only=True, save_weights_only=False, mode='auto', save_freq='epoch')\n",
    "        LR = ReduceLROnPlateau(monitor='val_loss', factor=0.2, verbose=1, patience=4)\n",
    "        \n",
    "        earlystop = EarlyStopping( monitor=\"val_loss\", min_delta=0,patience=10,verbose=1)\n",
    "        callbacks_list = [checkpoint, LR]\n",
    "\n",
    "        if (num_train_sequences%batch_size) == 0:\n",
    "            steps_per_epoch = int(num_train_sequences/batch_size)\n",
    "        else:\n",
    "            steps_per_epoch = (num_train_sequences//batch_size) + 1\n",
    "\n",
    "        if (num_val_sequences%batch_size) == 0:\n",
    "            validation_steps = int(num_val_sequences/batch_size)\n",
    "        else:\n",
    "            validation_steps = (num_val_sequences//batch_size) + 1\n",
    "    \n",
    "        history=model.fit(train_generator, steps_per_epoch=steps_per_epoch, epochs=num_epochs, verbose=1, \n",
    "                            callbacks=callbacks_list, validation_data=val_generator, \n",
    "                            validation_steps=validation_steps, class_weight=None, workers=1, initial_epoch=0)\n",
    "        return history"
   ]
  },
  {
   "cell_type": "markdown",
   "metadata": {
    "id": "NwrMz0WDKeIA"
   },
   "source": [
    "# Using Convolution 3D Architecture"
   ]
  },
  {
   "cell_type": "code",
   "execution_count": 45,
   "metadata": {
    "colab": {
     "base_uri": "https://localhost:8080/"
    },
    "id": "P1TlvmPrLCNs",
    "outputId": "058d571a-dee1-45c7-d300-15d4fed7d07a",
    "scrolled": true
   },
   "outputs": [
    {
     "name": "stdout",
     "output_type": "stream",
     "text": [
      "time: 27.3 ms\n"
     ]
    }
   ],
   "source": [
    "# model\n",
    "def model1(rows,cols):\n",
    "  nb_dense = [256,128,64,5]\n",
    "  nb_classes = 5\n",
    "  filtersize=(3,3,3)\n",
    "  dropout=0.3\n",
    "  frames=30\n",
    "  # Input\n",
    "  input_shape=(frames,rows,cols,3)\n",
    "\n",
    "  model = Sequential()\n",
    "  model.add(Conv3D(16, filtersize, padding='same',\n",
    "            input_shape=input_shape))\n",
    "  model.add(Activation('relu'))\n",
    "  model.add(BatchNormalization())\n",
    "  model.add(MaxPooling3D(pool_size=(2, 2, 2)))\n",
    "\n",
    "  model.add(Conv3D(32, filtersize, padding='same'))\n",
    "  model.add(Activation('relu'))\n",
    "  model.add(BatchNormalization())\n",
    "  model.add(MaxPooling3D(pool_size=(2, 2, 2)))\n",
    "\n",
    "  model.add(Conv3D(64, filtersize, padding='same'))\n",
    "  model.add(Activation('relu'))\n",
    "  model.add(MaxPooling3D(pool_size=(2, 2, 2)))\n",
    "\n",
    "  model.add(Conv3D(128, filtersize, padding='same'))\n",
    "  model.add(Activation('relu'))\n",
    "  model.add(MaxPooling3D(pool_size=(2, 2, 2)))\n",
    "\n",
    "  model.add(Flatten())\n",
    "  model.add(Dense(nb_dense[0],activation='relu'))\n",
    "  model.add(BatchNormalization())\n",
    "  model.add(Dropout(dropout))\n",
    "\n",
    "  model.add(Dense(nb_dense[1],activation='relu'))\n",
    "  model.add(BatchNormalization())\n",
    "  model.add(Dropout(dropout))\n",
    "\n",
    "\n",
    "  model.add(Dense(nb_classes,activation='softmax'))\n",
    "\n",
    "  optimiser = optimizers.Adam(lr=0.0001)\n",
    "  model.compile(optimizer=optimiser, loss='categorical_crossentropy', metrics=['categorical_accuracy'])\n",
    "  print(model.summary())\n",
    "  return model"
   ]
  },
  {
   "cell_type": "code",
   "execution_count": 46,
   "metadata": {
    "colab": {
     "base_uri": "https://localhost:8080/"
    },
    "id": "zEDD0ZTfLPzi",
    "outputId": "7931d155-0d15-4f00-89d3-2ffba813299d"
   },
   "outputs": [
    {
     "name": "stdout",
     "output_type": "stream",
     "text": [
      "Model: \"sequential_3\"\n",
      "_________________________________________________________________\n",
      "Layer (type)                 Output Shape              Param #   \n",
      "=================================================================\n",
      "conv3d_12 (Conv3D)           (None, 30, 140, 140, 16)  1312      \n",
      "_________________________________________________________________\n",
      "activation_12 (Activation)   (None, 30, 140, 140, 16)  0         \n",
      "_________________________________________________________________\n",
      "batch_normalization_5 (Batch (None, 30, 140, 140, 16)  64        \n",
      "_________________________________________________________________\n",
      "max_pooling3d_12 (MaxPooling (None, 15, 70, 70, 16)    0         \n",
      "_________________________________________________________________\n",
      "conv3d_13 (Conv3D)           (None, 15, 70, 70, 32)    13856     \n",
      "_________________________________________________________________\n",
      "activation_13 (Activation)   (None, 15, 70, 70, 32)    0         \n",
      "_________________________________________________________________\n",
      "batch_normalization_6 (Batch (None, 15, 70, 70, 32)    128       \n",
      "_________________________________________________________________\n",
      "max_pooling3d_13 (MaxPooling (None, 7, 35, 35, 32)     0         \n",
      "_________________________________________________________________\n",
      "conv3d_14 (Conv3D)           (None, 7, 35, 35, 64)     55360     \n",
      "_________________________________________________________________\n",
      "activation_14 (Activation)   (None, 7, 35, 35, 64)     0         \n",
      "_________________________________________________________________\n",
      "max_pooling3d_14 (MaxPooling (None, 3, 17, 17, 64)     0         \n",
      "_________________________________________________________________\n",
      "conv3d_15 (Conv3D)           (None, 3, 17, 17, 128)    221312    \n",
      "_________________________________________________________________\n",
      "activation_15 (Activation)   (None, 3, 17, 17, 128)    0         \n",
      "_________________________________________________________________\n",
      "max_pooling3d_15 (MaxPooling (None, 1, 8, 8, 128)      0         \n",
      "_________________________________________________________________\n",
      "flatten_3 (Flatten)          (None, 8192)              0         \n",
      "_________________________________________________________________\n",
      "dense_9 (Dense)              (None, 256)               2097408   \n",
      "_________________________________________________________________\n",
      "batch_normalization_7 (Batch (None, 256)               1024      \n",
      "_________________________________________________________________\n",
      "dropout_4 (Dropout)          (None, 256)               0         \n",
      "_________________________________________________________________\n",
      "dense_10 (Dense)             (None, 128)               32896     \n",
      "_________________________________________________________________\n",
      "batch_normalization_8 (Batch (None, 128)               512       \n",
      "_________________________________________________________________\n",
      "dropout_5 (Dropout)          (None, 128)               0         \n",
      "_________________________________________________________________\n",
      "dense_11 (Dense)             (None, 5)                 645       \n",
      "=================================================================\n",
      "Total params: 2,424,517\n",
      "Trainable params: 2,423,653\n",
      "Non-trainable params: 864\n",
      "_________________________________________________________________\n",
      "None\n",
      "Source path =  /content/gdrive/My Drive/Project_data/train ; batch size = 25\n",
      "Epoch 1/30\n",
      "27/27 [==============================] - ETA: 0s - loss: 1.6936 - categorical_accuracy: 0.3997Source path =  /content/gdrive/My Drive/Project_data/val ; batch size = 25\n",
      "\n",
      "Epoch 00001: val_loss improved from inf to 1.80214, saving model to /content/gdrive/My Drive/Project_data/model_4_2020-11-0913_28_40.136485/model-00001-1.69360-0.39970-1.80214-0.21000.h5\n",
      "27/27 [==============================] - 204s 8s/step - loss: 1.6936 - categorical_accuracy: 0.3997 - val_loss: 1.8021 - val_categorical_accuracy: 0.2100\n",
      "Epoch 2/30\n",
      "27/27 [==============================] - ETA: 0s - loss: 1.0346 - categorical_accuracy: 0.6111\n",
      "Epoch 00002: val_loss did not improve from 1.80214\n",
      "27/27 [==============================] - 118s 4s/step - loss: 1.0346 - categorical_accuracy: 0.6111 - val_loss: 2.7355 - val_categorical_accuracy: 0.2100\n",
      "Epoch 3/30\n",
      "27/27 [==============================] - ETA: 0s - loss: 0.9256 - categorical_accuracy: 0.6738\n",
      "Epoch 00003: val_loss did not improve from 1.80214\n",
      "27/27 [==============================] - 127s 5s/step - loss: 0.9256 - categorical_accuracy: 0.6738 - val_loss: 3.6509 - val_categorical_accuracy: 0.1700\n",
      "Epoch 4/30\n",
      "27/27 [==============================] - ETA: 0s - loss: 0.5655 - categorical_accuracy: 0.7920\n",
      "Epoch 00004: val_loss did not improve from 1.80214\n",
      "27/27 [==============================] - 124s 5s/step - loss: 0.5655 - categorical_accuracy: 0.7920 - val_loss: 3.8269 - val_categorical_accuracy: 0.2900\n",
      "Epoch 5/30\n",
      "27/27 [==============================] - ETA: 0s - loss: 0.5928 - categorical_accuracy: 0.7863\n",
      "Epoch 00005: val_loss did not improve from 1.80214\n",
      "\n",
      "Epoch 00005: ReduceLROnPlateau reducing learning rate to 1.9999999494757503e-05.\n",
      "27/27 [==============================] - 121s 4s/step - loss: 0.5928 - categorical_accuracy: 0.7863 - val_loss: 4.7298 - val_categorical_accuracy: 0.2100\n",
      "Epoch 6/30\n",
      "27/27 [==============================] - ETA: 0s - loss: 0.4313 - categorical_accuracy: 0.8519\n",
      "Epoch 00006: val_loss did not improve from 1.80214\n",
      "27/27 [==============================] - 123s 5s/step - loss: 0.4313 - categorical_accuracy: 0.8519 - val_loss: 4.8937 - val_categorical_accuracy: 0.2100\n",
      "Epoch 7/30\n",
      "27/27 [==============================] - ETA: 0s - loss: 0.3954 - categorical_accuracy: 0.8604\n",
      "Epoch 00007: val_loss did not improve from 1.80214\n",
      "27/27 [==============================] - 119s 4s/step - loss: 0.3954 - categorical_accuracy: 0.8604 - val_loss: 5.7043 - val_categorical_accuracy: 0.1700\n",
      "Epoch 8/30\n",
      "27/27 [==============================] - ETA: 0s - loss: 0.3803 - categorical_accuracy: 0.8632\n",
      "Epoch 00008: val_loss did not improve from 1.80214\n",
      "27/27 [==============================] - 120s 4s/step - loss: 0.3803 - categorical_accuracy: 0.8632 - val_loss: 5.0419 - val_categorical_accuracy: 0.2500\n",
      "Epoch 9/30\n",
      "27/27 [==============================] - ETA: 0s - loss: 0.4156 - categorical_accuracy: 0.8447\n",
      "Epoch 00009: val_loss did not improve from 1.80214\n",
      "\n",
      "Epoch 00009: ReduceLROnPlateau reducing learning rate to 3.999999898951501e-06.\n",
      "27/27 [==============================] - 119s 4s/step - loss: 0.4156 - categorical_accuracy: 0.8447 - val_loss: 5.2926 - val_categorical_accuracy: 0.2200\n",
      "Epoch 10/30\n",
      "27/27 [==============================] - ETA: 0s - loss: 0.3653 - categorical_accuracy: 0.8661\n",
      "Epoch 00010: val_loss did not improve from 1.80214\n",
      "27/27 [==============================] - 118s 4s/step - loss: 0.3653 - categorical_accuracy: 0.8661 - val_loss: 5.2171 - val_categorical_accuracy: 0.2100\n",
      "Epoch 11/30\n",
      "27/27 [==============================] - ETA: 0s - loss: 0.2958 - categorical_accuracy: 0.9003\n",
      "Epoch 00011: val_loss did not improve from 1.80214\n",
      "27/27 [==============================] - 120s 4s/step - loss: 0.2958 - categorical_accuracy: 0.9003 - val_loss: 5.3695 - val_categorical_accuracy: 0.2000\n",
      "Epoch 12/30\n",
      "27/27 [==============================] - ETA: 0s - loss: 0.3093 - categorical_accuracy: 0.9103\n",
      "Epoch 00012: val_loss did not improve from 1.80214\n",
      "27/27 [==============================] - 115s 4s/step - loss: 0.3093 - categorical_accuracy: 0.9103 - val_loss: 4.4511 - val_categorical_accuracy: 0.2200\n",
      "Epoch 13/30\n",
      "27/27 [==============================] - ETA: 0s - loss: 0.3084 - categorical_accuracy: 0.8903\n",
      "Epoch 00013: val_loss did not improve from 1.80214\n",
      "\n",
      "Epoch 00013: ReduceLROnPlateau reducing learning rate to 7.999999979801942e-07.\n",
      "27/27 [==============================] - 120s 4s/step - loss: 0.3084 - categorical_accuracy: 0.8903 - val_loss: 4.3138 - val_categorical_accuracy: 0.2500\n",
      "Epoch 14/30\n",
      "27/27 [==============================] - ETA: 0s - loss: 0.3531 - categorical_accuracy: 0.8860\n",
      "Epoch 00014: val_loss did not improve from 1.80214\n",
      "27/27 [==============================] - 119s 4s/step - loss: 0.3531 - categorical_accuracy: 0.8860 - val_loss: 3.8119 - val_categorical_accuracy: 0.3000\n",
      "Epoch 15/30\n",
      "27/27 [==============================] - ETA: 0s - loss: 0.2447 - categorical_accuracy: 0.9245\n",
      "Epoch 00015: val_loss did not improve from 1.80214\n",
      "27/27 [==============================] - 117s 4s/step - loss: 0.2447 - categorical_accuracy: 0.9245 - val_loss: 3.6006 - val_categorical_accuracy: 0.3100\n",
      "Epoch 16/30\n",
      "27/27 [==============================] - ETA: 0s - loss: 0.3171 - categorical_accuracy: 0.8875\n",
      "Epoch 00016: val_loss did not improve from 1.80214\n",
      "27/27 [==============================] - 118s 4s/step - loss: 0.3171 - categorical_accuracy: 0.8875 - val_loss: 2.9960 - val_categorical_accuracy: 0.3600\n",
      "Epoch 17/30\n",
      "27/27 [==============================] - ETA: 0s - loss: 0.2961 - categorical_accuracy: 0.8960\n",
      "Epoch 00017: val_loss did not improve from 1.80214\n",
      "\n",
      "Epoch 00017: ReduceLROnPlateau reducing learning rate to 1.600000018697756e-07.\n",
      "27/27 [==============================] - 117s 4s/step - loss: 0.2961 - categorical_accuracy: 0.8960 - val_loss: 2.6794 - val_categorical_accuracy: 0.3400\n",
      "Epoch 18/30\n",
      "27/27 [==============================] - ETA: 0s - loss: 0.2813 - categorical_accuracy: 0.9131\n",
      "Epoch 00018: val_loss did not improve from 1.80214\n",
      "27/27 [==============================] - 118s 4s/step - loss: 0.2813 - categorical_accuracy: 0.9131 - val_loss: 2.3986 - val_categorical_accuracy: 0.3500\n",
      "Epoch 19/30\n",
      "27/27 [==============================] - ETA: 0s - loss: 0.3048 - categorical_accuracy: 0.9074\n",
      "Epoch 00019: val_loss improved from 1.80214 to 1.79786, saving model to /content/gdrive/My Drive/Project_data/model_4_2020-11-0913_28_40.136485/model-00019-0.30484-0.90741-1.79786-0.45000.h5\n",
      "27/27 [==============================] - 116s 4s/step - loss: 0.3048 - categorical_accuracy: 0.9074 - val_loss: 1.7979 - val_categorical_accuracy: 0.4500\n",
      "Epoch 20/30\n",
      "27/27 [==============================] - ETA: 0s - loss: 0.3285 - categorical_accuracy: 0.8803\n",
      "Epoch 00020: val_loss improved from 1.79786 to 1.46524, saving model to /content/gdrive/My Drive/Project_data/model_4_2020-11-0913_28_40.136485/model-00020-0.32853-0.88034-1.46524-0.48000.h5\n",
      "27/27 [==============================] - 119s 4s/step - loss: 0.3285 - categorical_accuracy: 0.8803 - val_loss: 1.4652 - val_categorical_accuracy: 0.4800\n",
      "Epoch 21/30\n",
      "27/27 [==============================] - ETA: 0s - loss: 0.2701 - categorical_accuracy: 0.9231\n",
      "Epoch 00021: val_loss improved from 1.46524 to 1.25253, saving model to /content/gdrive/My Drive/Project_data/model_4_2020-11-0913_28_40.136485/model-00021-0.27009-0.92308-1.25253-0.53000.h5\n",
      "27/27 [==============================] - 116s 4s/step - loss: 0.2701 - categorical_accuracy: 0.9231 - val_loss: 1.2525 - val_categorical_accuracy: 0.5300\n",
      "Epoch 22/30\n",
      "27/27 [==============================] - ETA: 0s - loss: 0.3496 - categorical_accuracy: 0.8746\n",
      "Epoch 00022: val_loss improved from 1.25253 to 0.98319, saving model to /content/gdrive/My Drive/Project_data/model_4_2020-11-0913_28_40.136485/model-00022-0.34958-0.87464-0.98319-0.62000.h5\n",
      "27/27 [==============================] - 118s 4s/step - loss: 0.3496 - categorical_accuracy: 0.8746 - val_loss: 0.9832 - val_categorical_accuracy: 0.6200\n",
      "Epoch 23/30\n",
      "27/27 [==============================] - ETA: 0s - loss: 0.3261 - categorical_accuracy: 0.8889\n",
      "Epoch 00023: val_loss did not improve from 0.98319\n",
      "27/27 [==============================] - 119s 4s/step - loss: 0.3261 - categorical_accuracy: 0.8889 - val_loss: 1.0300 - val_categorical_accuracy: 0.6000\n",
      "Epoch 24/30\n",
      "27/27 [==============================] - ETA: 0s - loss: 0.3607 - categorical_accuracy: 0.8832\n",
      "Epoch 00024: val_loss improved from 0.98319 to 0.75886, saving model to /content/gdrive/My Drive/Project_data/model_4_2020-11-0913_28_40.136485/model-00024-0.36070-0.88319-0.75886-0.69000.h5\n",
      "27/27 [==============================] - 116s 4s/step - loss: 0.3607 - categorical_accuracy: 0.8832 - val_loss: 0.7589 - val_categorical_accuracy: 0.6900\n",
      "Epoch 25/30\n",
      "27/27 [==============================] - ETA: 0s - loss: 0.2933 - categorical_accuracy: 0.9145\n",
      "Epoch 00025: val_loss improved from 0.75886 to 0.70348, saving model to /content/gdrive/My Drive/Project_data/model_4_2020-11-0913_28_40.136485/model-00025-0.29334-0.91453-0.70348-0.74000.h5\n",
      "27/27 [==============================] - 113s 4s/step - loss: 0.2933 - categorical_accuracy: 0.9145 - val_loss: 0.7035 - val_categorical_accuracy: 0.7400\n",
      "Epoch 26/30\n",
      "27/27 [==============================] - ETA: 0s - loss: 0.3807 - categorical_accuracy: 0.8689\n",
      "Epoch 00026: val_loss improved from 0.70348 to 0.66021, saving model to /content/gdrive/My Drive/Project_data/model_4_2020-11-0913_28_40.136485/model-00026-0.38067-0.86895-0.66021-0.80000.h5\n",
      "27/27 [==============================] - 118s 4s/step - loss: 0.3807 - categorical_accuracy: 0.8689 - val_loss: 0.6602 - val_categorical_accuracy: 0.8000\n",
      "Epoch 27/30\n",
      "27/27 [==============================] - ETA: 0s - loss: 0.3125 - categorical_accuracy: 0.9046\n",
      "Epoch 00027: val_loss improved from 0.66021 to 0.50941, saving model to /content/gdrive/My Drive/Project_data/model_4_2020-11-0913_28_40.136485/model-00027-0.31251-0.90456-0.50941-0.81000.h5\n",
      "27/27 [==============================] - 117s 4s/step - loss: 0.3125 - categorical_accuracy: 0.9046 - val_loss: 0.5094 - val_categorical_accuracy: 0.8100\n",
      "Epoch 28/30\n",
      "27/27 [==============================] - ETA: 0s - loss: 0.3139 - categorical_accuracy: 0.8917\n",
      "Epoch 00028: val_loss did not improve from 0.50941\n",
      "27/27 [==============================] - 115s 4s/step - loss: 0.3139 - categorical_accuracy: 0.8917 - val_loss: 0.5492 - val_categorical_accuracy: 0.8200\n",
      "Epoch 29/30\n",
      "27/27 [==============================] - ETA: 0s - loss: 0.3446 - categorical_accuracy: 0.8818\n",
      "Epoch 00029: val_loss did not improve from 0.50941\n",
      "27/27 [==============================] - 118s 4s/step - loss: 0.3446 - categorical_accuracy: 0.8818 - val_loss: 0.5349 - val_categorical_accuracy: 0.8400\n",
      "Epoch 30/30\n",
      "27/27 [==============================] - ETA: 0s - loss: 0.3709 - categorical_accuracy: 0.8746\n",
      "Epoch 00030: val_loss improved from 0.50941 to 0.50365, saving model to /content/gdrive/My Drive/Project_data/model_4_2020-11-0913_28_40.136485/model-00030-0.37088-0.87464-0.50365-0.86000.h5\n",
      "27/27 [==============================] - 116s 4s/step - loss: 0.3709 - categorical_accuracy: 0.8746 - val_loss: 0.5037 - val_categorical_accuracy: 0.8600\n",
      "time: 1h 1min 5s\n"
     ]
    }
   ],
   "source": [
    "# argument list - batch_size,frames_to_sample,h,w,num_epochs\n",
    "history_model = train_model(25,20,140,140,30)"
   ]
  },
  {
   "cell_type": "code",
   "execution_count": 47,
   "metadata": {
    "colab": {
     "base_uri": "https://localhost:8080/",
     "height": 282
    },
    "id": "CWTSPtRFRvtx",
    "outputId": "68b72677-b457-452a-838d-1a1f65f73089"
   },
   "outputs": [
    {
     "data": {
      "image/png": "[encoded data removed]",
      "text/plain": [
       "<Figure size 1080x288 with 2 Axes>"
      ]
     },
     "metadata": {
      "needs_background": "light",
      "tags": []
     },
     "output_type": "display_data"
    },
    {
     "name": "stdout",
     "output_type": "stream",
     "text": [
      "time: 370 ms\n"
     ]
    }
   ],
   "source": [
    "plot(history_model)"
   ]
  },
  {
   "cell_type": "markdown",
   "metadata": {
    "id": "AcwAec3Dmz0S"
   },
   "source": [
    "### This model doesnt overfits and also gives good accuracy of around 86%.\n",
    "### So we will choose this as our final model"
   ]
  }
 ],
 "metadata": {
  "accelerator": "GPU",
  "colab": {
   "name": "Untitled3.ipynb",
   "provenance": []
  },
  "kernelspec": {
   "display_name": "Python 3",
   "language": "python",
   "name": "python3"
  },
  "language_info": {
   "codemirror_mode": {
    "name": "ipython",
    "version": 3
   },
   "file_extension": ".py",
   "mimetype": "text/x-python",
   "name": "python",
   "nbconvert_exporter": "python",
   "pygments_lexer": "ipython3",
   "version": "3.7.4"
  }
 },
 "nbformat": 4,
 "nbformat_minor": 1
}
